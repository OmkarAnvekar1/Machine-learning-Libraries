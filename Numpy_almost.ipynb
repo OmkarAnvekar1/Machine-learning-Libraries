{
 "cells": [
  {
   "cell_type": "markdown",
   "id": "18a96a4b",
   "metadata": {},
   "source": [
    "# NUMPY"
   ]
  },
  {
   "cell_type": "code",
   "execution_count": 1,
   "id": "08ac6d18",
   "metadata": {},
   "outputs": [
    {
     "name": "stdout",
     "output_type": "stream",
     "text": [
      "[1 2 3 4 5 6]\n"
     ]
    }
   ],
   "source": [
    "import numpy \n",
    "arr = numpy.array([1,2,3,4,5,6])\n",
    "print(arr)"
   ]
  },
  {
   "cell_type": "markdown",
   "id": "2db801a5",
   "metadata": {},
   "source": [
    "#### alias as np"
   ]
  },
  {
   "cell_type": "code",
   "execution_count": 2,
   "id": "20119b70",
   "metadata": {},
   "outputs": [
    {
     "name": "stdout",
     "output_type": "stream",
     "text": [
      "[1 2 3 4 5 6]\n",
      "<class 'numpy.ndarray'>\n"
     ]
    }
   ],
   "source": [
    "import numpy as np\n",
    "arr = np.array([1,2,3,4,5,6])\n",
    "print(arr)\n",
    "print(type(arr))"
   ]
  },
  {
   "cell_type": "markdown",
   "id": "a0faf37d",
   "metadata": {},
   "source": [
    "## 0,1,2,3 - D ARRAY"
   ]
  },
  {
   "cell_type": "code",
   "execution_count": 5,
   "id": "51f2d15d",
   "metadata": {},
   "outputs": [
    {
     "name": "stdout",
     "output_type": "stream",
     "text": [
      "99 dim :  0\n",
      "[1 2 3 4 5] dim :  1\n",
      "[[ 1  2  3  4  5]\n",
      " [ 6  7  8  9 10]] dim :  2\n",
      "[[[ 1  2  3  4  5]\n",
      "  [ 6  7  8  9 10]]] dim :  3\n"
     ]
    }
   ],
   "source": [
    "import numpy as np\n",
    "arr0 = np.array(99)\n",
    "arr1 = np.array([1,2,3,4,5])\n",
    "arr2 = np.array([[1,2,3,4,5],[6,7,8,9,10]])\n",
    "arr3 = np.array([[[1,2,3,4,5],[6,7,8,9,10]]])\n",
    "\n",
    "print(arr0 ,\"dim : \",arr0.ndim)\n",
    "\n",
    "print(arr1 ,\"dim : \",arr1.ndim)\n",
    "\n",
    "print(arr2 ,\"dim : \",arr2.ndim)\n",
    "\n",
    "print(arr3 ,\"dim : \",arr3.ndim)\n"
   ]
  },
  {
   "cell_type": "markdown",
   "id": "815ee4b5",
   "metadata": {},
   "source": [
    "#### check dimension"
   ]
  },
  {
   "cell_type": "code",
   "execution_count": 6,
   "id": "3ff0542b",
   "metadata": {},
   "outputs": [
    {
     "name": "stdout",
     "output_type": "stream",
     "text": [
      "0\n"
     ]
    }
   ],
   "source": [
    "print(arr0.ndim)"
   ]
  },
  {
   "cell_type": "markdown",
   "id": "46a15b86",
   "metadata": {},
   "source": [
    "## Higher dimension"
   ]
  },
  {
   "cell_type": "code",
   "execution_count": 15,
   "id": "305ca0b2",
   "metadata": {},
   "outputs": [
    {
     "name": "stdout",
     "output_type": "stream",
     "text": [
      "[[[[[1 2 3 4 5]]]]]\n",
      "Dimension of the array :\n",
      "5\n"
     ]
    }
   ],
   "source": [
    "import numpy as np\n",
    "array_temp = np.array([1,2,3,4,5],ndmin=5)\n",
    "print(array_temp)\n",
    "print(\"Dimension of the array :\")\n",
    "print(array_temp.ndim)"
   ]
  },
  {
   "cell_type": "code",
   "execution_count": 13,
   "id": "ae5615ad",
   "metadata": {},
   "outputs": [
    {
     "name": "stdout",
     "output_type": "stream",
     "text": [
      "[[[[[1 2 3 4]]]]]\n",
      "number of dimensions : 5\n"
     ]
    }
   ],
   "source": [
    "import numpy as np\n",
    "\n",
    "arr = np.array([1, 2, 3, 4], ndmin=5)\n",
    "\n",
    "print(arr)\n",
    "print('number of dimensions :', arr.ndim)\n"
   ]
  },
  {
   "cell_type": "markdown",
   "id": "17688001",
   "metadata": {},
   "source": [
    "## Access array elements"
   ]
  },
  {
   "cell_type": "code",
   "execution_count": 17,
   "id": "a59d6dcf",
   "metadata": {},
   "outputs": [
    {
     "name": "stdout",
     "output_type": "stream",
     "text": [
      "1\n"
     ]
    }
   ],
   "source": [
    "import numpy as np\n",
    "arr = np.array([1,2,3,4,5,6])\n",
    "print(arr[0])"
   ]
  },
  {
   "cell_type": "code",
   "execution_count": 20,
   "id": "561246be",
   "metadata": {},
   "outputs": [
    {
     "name": "stdout",
     "output_type": "stream",
     "text": [
      "2\n"
     ]
    }
   ],
   "source": [
    "print(arr[1])                                                        # 1D ARRAY\n"
   ]
  },
  {
   "cell_type": "code",
   "execution_count": 19,
   "id": "a0f38cb5",
   "metadata": {},
   "outputs": [
    {
     "name": "stdout",
     "output_type": "stream",
     "text": [
      "6\n"
     ]
    }
   ],
   "source": [
    "print(arr[1]+arr[3])                                                 # 1D ARRAY"
   ]
  },
  {
   "cell_type": "code",
   "execution_count": 22,
   "id": "53af0bd0",
   "metadata": {},
   "outputs": [
    {
     "name": "stdout",
     "output_type": "stream",
     "text": [
      "4\n"
     ]
    }
   ],
   "source": [
    "import numpy as np                                                   # 2D ARRAY\n",
    "arr = np.array([[1,2,3,4,5,6],[9,6,0,3,2,9]])\n",
    "print(arr[0,3])"
   ]
  },
  {
   "cell_type": "code",
   "execution_count": 23,
   "id": "5197e583",
   "metadata": {},
   "outputs": [
    {
     "name": "stdout",
     "output_type": "stream",
     "text": [
      "4\n"
     ]
    }
   ],
   "source": [
    "arr = np.array([[1,2],[9,6],[5,4],[3,1]])                            # 2D ARRAY\n",
    "print(arr[2,1])"
   ]
  },
  {
   "cell_type": "code",
   "execution_count": 27,
   "id": "e64e1f95",
   "metadata": {},
   "outputs": [
    {
     "ename": "IndexError",
     "evalue": "index 3 is out of bounds for axis 1 with size 2",
     "output_type": "error",
     "traceback": [
      "\u001b[1;31m---------------------------------------------------------------------------\u001b[0m",
      "\u001b[1;31mIndexError\u001b[0m                                Traceback (most recent call last)",
      "\u001b[1;32m<ipython-input-27-b41f69a1a745>\u001b[0m in \u001b[0;36m<module>\u001b[1;34m\u001b[0m\n\u001b[0;32m      1\u001b[0m \u001b[0marr\u001b[0m \u001b[1;33m=\u001b[0m \u001b[0mnp\u001b[0m\u001b[1;33m.\u001b[0m\u001b[0marray\u001b[0m\u001b[1;33m(\u001b[0m\u001b[1;33m[\u001b[0m\u001b[1;33m[\u001b[0m\u001b[1;33m[\u001b[0m\u001b[1;36m1\u001b[0m\u001b[1;33m,\u001b[0m\u001b[1;36m2\u001b[0m\u001b[1;33m,\u001b[0m\u001b[1;36m3\u001b[0m\u001b[1;33m,\u001b[0m\u001b[1;36m4\u001b[0m\u001b[1;33m,\u001b[0m\u001b[1;36m5\u001b[0m\u001b[1;33m,\u001b[0m\u001b[1;36m6\u001b[0m\u001b[1;33m]\u001b[0m\u001b[1;33m,\u001b[0m\u001b[1;33m[\u001b[0m\u001b[1;36m9\u001b[0m\u001b[1;33m,\u001b[0m\u001b[1;36m6\u001b[0m\u001b[1;33m,\u001b[0m\u001b[1;36m0\u001b[0m\u001b[1;33m,\u001b[0m\u001b[1;36m3\u001b[0m\u001b[1;33m,\u001b[0m\u001b[1;36m2\u001b[0m\u001b[1;33m,\u001b[0m\u001b[1;36m9\u001b[0m\u001b[1;33m]\u001b[0m\u001b[1;33m]\u001b[0m\u001b[1;33m]\u001b[0m\u001b[1;33m)\u001b[0m\u001b[1;33m\u001b[0m\u001b[1;33m\u001b[0m\u001b[0m\n\u001b[1;32m----> 2\u001b[1;33m \u001b[0mprint\u001b[0m\u001b[1;33m(\u001b[0m\u001b[0marr\u001b[0m\u001b[1;33m[\u001b[0m\u001b[1;36m0\u001b[0m\u001b[1;33m,\u001b[0m\u001b[1;36m3\u001b[0m\u001b[1;33m,\u001b[0m\u001b[1;36m1\u001b[0m\u001b[1;33m]\u001b[0m\u001b[1;33m)\u001b[0m\u001b[1;33m\u001b[0m\u001b[1;33m\u001b[0m\u001b[0m\n\u001b[0m",
      "\u001b[1;31mIndexError\u001b[0m: index 3 is out of bounds for axis 1 with size 2"
     ]
    }
   ],
   "source": [
    "arr = np.array([[[1,2,3,4,5,6],[9,6,0,3,2,9]]])\n",
    "print(arr[0,3,1])"
   ]
  },
  {
   "cell_type": "code",
   "execution_count": null,
   "id": "9e90ff7b",
   "metadata": {},
   "outputs": [],
   "source": []
  },
  {
   "cell_type": "code",
   "execution_count": null,
   "id": "ce58bdf5",
   "metadata": {},
   "outputs": [],
   "source": []
  }
 ],
 "metadata": {
  "kernelspec": {
   "display_name": "Python 3",
   "language": "python",
   "name": "python3"
  },
  "language_info": {
   "codemirror_mode": {
    "name": "ipython",
    "version": 3
   },
   "file_extension": ".py",
   "mimetype": "text/x-python",
   "name": "python",
   "nbconvert_exporter": "python",
   "pygments_lexer": "ipython3",
   "version": "3.8.8"
  }
 },
 "nbformat": 4,
 "nbformat_minor": 5
}
